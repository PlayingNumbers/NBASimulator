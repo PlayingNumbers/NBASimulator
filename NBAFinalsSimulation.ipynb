{
 "cells": [
  {
   "cell_type": "code",
   "execution_count": null,
   "metadata": {},
   "outputs": [],
   "source": [
    "import pandas as pd \n",
    "import random as rnd\n",
    "import numpy as np \n",
    "import matplotlib.pyplot as plt"
   ]
  },
  {
   "cell_type": "code",
   "execution_count": null,
   "metadata": {},
   "outputs": [],
   "source": [
    "gdf = pd.read_csv('nba_games_stats.csv')"
   ]
  },
  {
   "cell_type": "code",
   "execution_count": null,
   "metadata": {},
   "outputs": [],
   "source": [
    "gdf.columns"
   ]
  },
  {
   "cell_type": "code",
   "execution_count": null,
   "metadata": {},
   "outputs": [],
   "source": [
    "gswdf = gdf[gdf.Team == 'GSW']\n",
    "cldf = gdf[gdf.Team == 'CLE']\n"
   ]
  },
  {
   "cell_type": "code",
   "execution_count": null,
   "metadata": {},
   "outputs": [],
   "source": [
    "gswdf.Date = gswdf.Date.apply(lambda x: pd.to_datetime(x, format='%Y-%m-%d', errors='ignore'))\n",
    "gswdf = gswdf[gswdf['Date'] > pd.to_datetime('20171001', format='%Y%m%d', errors='ignore')]\n",
    "\n",
    "cldf.Date = cldf.Date.apply(lambda x: pd.to_datetime(x, format='%Y-%m-%d', errors='ignore'))\n",
    "cldf = cldf[cldf['Date'] > pd.to_datetime('20171001', format='%Y%m%d', errors='ignore')]"
   ]
  },
  {
   "cell_type": "code",
   "execution_count": null,
   "metadata": {},
   "outputs": [],
   "source": [
    "gswdf.TeamPoints.hist()\n",
    "cldf.TeamPoints.hist()"
   ]
  },
  {
   "cell_type": "code",
   "execution_count": null,
   "metadata": {},
   "outputs": [],
   "source": [
    "gswdf.OpponentPoints.hist()\n",
    "cldf.OpponentPoints.hist()"
   ]
  },
  {
   "cell_type": "code",
   "execution_count": null,
   "metadata": {},
   "outputs": [],
   "source": [
    "gswmeanpts = gswdf.TeamPoints.mean()\n",
    "clmeanpts = cldf.TeamPoints.mean()\n",
    "gswsdpts = gswdf.TeamPoints.std()\n",
    "clsdpts = cldf.TeamPoints.std()\n",
    "\n",
    "gswmeanopp = gswdf.OpponentPoints.mean()\n",
    "clmeanopp = cldf.OpponentPoints.mean()\n",
    "gswsdopp = gswdf.OpponentPoints.std()\n",
    "clsdopp = cldf.OpponentPoints.std()\n",
    "\n",
    "print(\"Golden State Points Mean \", gswmeanpts)\n",
    "print(\"Golden State Points SD \", gswsdpts)\n",
    "print(\"Cleveland Points Mean \", clmeanpts)\n",
    "print(\"Cleveland Points SD \", clsdpts)\n",
    "\n",
    "print(\"Golden State OppPoints Mean \", gswmeanopp)\n",
    "print(\"Golden State OppPoints SD \", gswsdopp)\n",
    "print(\"Cleveland OppPoints Mean \", clmeanopp)\n",
    "print(\"Cleveland OppPoints SD \", clsdopp)"
   ]
  },
  {
   "cell_type": "code",
   "execution_count": null,
   "metadata": {},
   "outputs": [],
   "source": [
    "def gameSim():\n",
    "    GSWScore = (rnd.gauss(gswmeanpts,gswsdpts)+ rnd.gauss(clmeanopp,clsdopp))/2\n",
    "    CLScore = (rnd.gauss(clmeanpts,clsdpts)+ rnd.gauss(gswmeanopp,gswsdopp))/2\n",
    "    if int(round(GSWScore)) > int(round(CLScore)):\n",
    "        return 1\n",
    "    elif int(round(GSWScore)) < int(round(CLScore)):\n",
    "        return -1\n",
    "    else: return 0"
   ]
  },
  {
   "cell_type": "code",
   "execution_count": null,
   "metadata": {},
   "outputs": [],
   "source": [
    "def gamesSim(ns):\n",
    "    gamesout = []\n",
    "    team1win = 0\n",
    "    team2win = 0\n",
    "    tie = 0\n",
    "    for i in range(ns):\n",
    "        gm = gameSim()\n",
    "        gamesout.append(gm)\n",
    "        if gm == 1:\n",
    "            team1win +=1 \n",
    "        elif gm == -1:\n",
    "            team2win +=1\n",
    "        else: tie +=1 \n",
    "    print('GSW Win ', team1win/(team1win+team2win+tie),'%')\n",
    "    print('CLE Win ', team2win/(team1win+team2win+tie),'%')\n",
    "    print('Tie ', tie/(team1win+team2win+tie), '%')\n",
    "    return gamesout\n",
    "        "
   ]
  },
  {
   "cell_type": "code",
   "execution_count": null,
   "metadata": {},
   "outputs": [],
   "source": [
    "gamesSim(10000)"
   ]
  }
 ],
 "metadata": {
  "kernelspec": {
   "display_name": "Python 3",
   "language": "python",
   "name": "python3"
  },
  "language_info": {
   "codemirror_mode": {
    "name": "ipython",
    "version": 3
   },
   "file_extension": ".py",
   "mimetype": "text/x-python",
   "name": "python",
   "nbconvert_exporter": "python",
   "pygments_lexer": "ipython3",
   "version": "3.6.4"
  }
 },
 "nbformat": 4,
 "nbformat_minor": 2
}
